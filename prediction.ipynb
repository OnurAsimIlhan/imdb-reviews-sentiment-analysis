{
 "cells": [
  {
   "cell_type": "code",
   "execution_count": 12,
   "metadata": {},
   "outputs": [],
   "source": [
    "# Step 1: Import Libraries and Load the Model\n",
    "import numpy as np\n",
    "import tensorflow as tf\n",
    "from tensorflow.keras.datasets import imdb\n",
    "from tensorflow.keras.preprocessing import sequence\n",
    "from tensorflow.keras.models import load_model"
   ]
  },
  {
   "cell_type": "code",
   "execution_count": 13,
   "metadata": {},
   "outputs": [],
   "source": [
    "\n",
    "# Load the IMDB dataset word index\n",
    "word_index = imdb.get_word_index()\n",
    "reverse_word_index = {value: key for key, value in word_index.items()}"
   ]
  },
  {
   "cell_type": "code",
   "execution_count": 14,
   "metadata": {},
   "outputs": [
    {
     "name": "stderr",
     "output_type": "stream",
     "text": [
      "WARNING:absl:Compiled the loaded model, but the compiled metrics have yet to be built. `model.compile_metrics` will be empty until you train or evaluate the model.\n"
     ]
    },
    {
     "data": {
      "text/html": [
       "<pre style=\"white-space:pre;overflow-x:auto;line-height:normal;font-family:Menlo,'DejaVu Sans Mono',consolas,'Courier New',monospace\"><span style=\"font-weight: bold\">Model: \"sequential\"</span>\n",
       "</pre>\n"
      ],
      "text/plain": [
       "\u001b[1mModel: \"sequential\"\u001b[0m\n"
      ]
     },
     "metadata": {},
     "output_type": "display_data"
    },
    {
     "data": {
      "text/html": [
       "<pre style=\"white-space:pre;overflow-x:auto;line-height:normal;font-family:Menlo,'DejaVu Sans Mono',consolas,'Courier New',monospace\">┏━━━━━━━━━━━━━━━━━━━━━━━━━━━━━━━━━┳━━━━━━━━━━━━━━━━━━━━━━━━┳━━━━━━━━━━━━━━━┓\n",
       "┃<span style=\"font-weight: bold\"> Layer (type)                    </span>┃<span style=\"font-weight: bold\"> Output Shape           </span>┃<span style=\"font-weight: bold\">       Param # </span>┃\n",
       "┡━━━━━━━━━━━━━━━━━━━━━━━━━━━━━━━━━╇━━━━━━━━━━━━━━━━━━━━━━━━╇━━━━━━━━━━━━━━━┩\n",
       "│ embedding (<span style=\"color: #0087ff; text-decoration-color: #0087ff\">Embedding</span>)           │ (<span style=\"color: #00af00; text-decoration-color: #00af00\">32</span>, <span style=\"color: #00af00; text-decoration-color: #00af00\">500</span>, <span style=\"color: #00af00; text-decoration-color: #00af00\">128</span>)         │     <span style=\"color: #00af00; text-decoration-color: #00af00\">1,280,000</span> │\n",
       "├─────────────────────────────────┼────────────────────────┼───────────────┤\n",
       "│ simple_rnn (<span style=\"color: #0087ff; text-decoration-color: #0087ff\">SimpleRNN</span>)          │ (<span style=\"color: #00af00; text-decoration-color: #00af00\">32</span>, <span style=\"color: #00af00; text-decoration-color: #00af00\">128</span>)              │        <span style=\"color: #00af00; text-decoration-color: #00af00\">32,896</span> │\n",
       "├─────────────────────────────────┼────────────────────────┼───────────────┤\n",
       "│ dense (<span style=\"color: #0087ff; text-decoration-color: #0087ff\">Dense</span>)                   │ (<span style=\"color: #00af00; text-decoration-color: #00af00\">32</span>, <span style=\"color: #00af00; text-decoration-color: #00af00\">1</span>)                │           <span style=\"color: #00af00; text-decoration-color: #00af00\">129</span> │\n",
       "└─────────────────────────────────┴────────────────────────┴───────────────┘\n",
       "</pre>\n"
      ],
      "text/plain": [
       "┏━━━━━━━━━━━━━━━━━━━━━━━━━━━━━━━━━┳━━━━━━━━━━━━━━━━━━━━━━━━┳━━━━━━━━━━━━━━━┓\n",
       "┃\u001b[1m \u001b[0m\u001b[1mLayer (type)                   \u001b[0m\u001b[1m \u001b[0m┃\u001b[1m \u001b[0m\u001b[1mOutput Shape          \u001b[0m\u001b[1m \u001b[0m┃\u001b[1m \u001b[0m\u001b[1m      Param #\u001b[0m\u001b[1m \u001b[0m┃\n",
       "┡━━━━━━━━━━━━━━━━━━━━━━━━━━━━━━━━━╇━━━━━━━━━━━━━━━━━━━━━━━━╇━━━━━━━━━━━━━━━┩\n",
       "│ embedding (\u001b[38;5;33mEmbedding\u001b[0m)           │ (\u001b[38;5;34m32\u001b[0m, \u001b[38;5;34m500\u001b[0m, \u001b[38;5;34m128\u001b[0m)         │     \u001b[38;5;34m1,280,000\u001b[0m │\n",
       "├─────────────────────────────────┼────────────────────────┼───────────────┤\n",
       "│ simple_rnn (\u001b[38;5;33mSimpleRNN\u001b[0m)          │ (\u001b[38;5;34m32\u001b[0m, \u001b[38;5;34m128\u001b[0m)              │        \u001b[38;5;34m32,896\u001b[0m │\n",
       "├─────────────────────────────────┼────────────────────────┼───────────────┤\n",
       "│ dense (\u001b[38;5;33mDense\u001b[0m)                   │ (\u001b[38;5;34m32\u001b[0m, \u001b[38;5;34m1\u001b[0m)                │           \u001b[38;5;34m129\u001b[0m │\n",
       "└─────────────────────────────────┴────────────────────────┴───────────────┘\n"
      ]
     },
     "metadata": {},
     "output_type": "display_data"
    },
    {
     "data": {
      "text/html": [
       "<pre style=\"white-space:pre;overflow-x:auto;line-height:normal;font-family:Menlo,'DejaVu Sans Mono',consolas,'Courier New',monospace\"><span style=\"font-weight: bold\"> Total params: </span><span style=\"color: #00af00; text-decoration-color: #00af00\">1,313,027</span> (5.01 MB)\n",
       "</pre>\n"
      ],
      "text/plain": [
       "\u001b[1m Total params: \u001b[0m\u001b[38;5;34m1,313,027\u001b[0m (5.01 MB)\n"
      ]
     },
     "metadata": {},
     "output_type": "display_data"
    },
    {
     "data": {
      "text/html": [
       "<pre style=\"white-space:pre;overflow-x:auto;line-height:normal;font-family:Menlo,'DejaVu Sans Mono',consolas,'Courier New',monospace\"><span style=\"font-weight: bold\"> Trainable params: </span><span style=\"color: #00af00; text-decoration-color: #00af00\">1,313,025</span> (5.01 MB)\n",
       "</pre>\n"
      ],
      "text/plain": [
       "\u001b[1m Trainable params: \u001b[0m\u001b[38;5;34m1,313,025\u001b[0m (5.01 MB)\n"
      ]
     },
     "metadata": {},
     "output_type": "display_data"
    },
    {
     "data": {
      "text/html": [
       "<pre style=\"white-space:pre;overflow-x:auto;line-height:normal;font-family:Menlo,'DejaVu Sans Mono',consolas,'Courier New',monospace\"><span style=\"font-weight: bold\"> Non-trainable params: </span><span style=\"color: #00af00; text-decoration-color: #00af00\">0</span> (0.00 B)\n",
       "</pre>\n"
      ],
      "text/plain": [
       "\u001b[1m Non-trainable params: \u001b[0m\u001b[38;5;34m0\u001b[0m (0.00 B)\n"
      ]
     },
     "metadata": {},
     "output_type": "display_data"
    },
    {
     "data": {
      "text/html": [
       "<pre style=\"white-space:pre;overflow-x:auto;line-height:normal;font-family:Menlo,'DejaVu Sans Mono',consolas,'Courier New',monospace\"><span style=\"font-weight: bold\"> Optimizer params: </span><span style=\"color: #00af00; text-decoration-color: #00af00\">2</span> (12.00 B)\n",
       "</pre>\n"
      ],
      "text/plain": [
       "\u001b[1m Optimizer params: \u001b[0m\u001b[38;5;34m2\u001b[0m (12.00 B)\n"
      ]
     },
     "metadata": {},
     "output_type": "display_data"
    }
   ],
   "source": [
    "# Load the pre-trained model with ReLU activation\n",
    "model = load_model('simple_rnn_imdb.h5')\n",
    "model.summary()"
   ]
  },
  {
   "cell_type": "code",
   "execution_count": 15,
   "metadata": {},
   "outputs": [
    {
     "data": {
      "text/plain": [
       "[array([[-0.5676906 ,  0.02085206,  0.38222653, ..., -0.41880265,\n",
       "         -0.5581321 ,  0.39140627],\n",
       "        [ 0.03122524,  0.07402432,  0.02324865, ..., -0.01662663,\n",
       "         -0.04883221,  0.10303606],\n",
       "        [-0.04252335,  0.09016447, -0.05977317, ..., -0.133263  ,\n",
       "         -0.0870107 ,  0.17281325],\n",
       "        ...,\n",
       "        [-0.03712969, -0.04498111, -0.03616038, ...,  0.0306963 ,\n",
       "         -0.03714169, -0.05384623],\n",
       "        [ 0.03066254, -0.04299156, -0.00633088, ..., -0.02637796,\n",
       "         -0.0109235 ,  0.00728347],\n",
       "        [-0.02917027,  0.11814407,  0.12514131, ...,  0.12233228,\n",
       "         -0.12704776,  0.11160922]], dtype=float32),\n",
       " array([[ 0.10037276,  0.15216571, -0.10822862, ..., -0.08343782,\n",
       "         -0.00659253,  0.00284046],\n",
       "        [-0.14787349, -0.05290297,  0.03694541, ...,  0.06027709,\n",
       "         -0.09788625,  0.06626011],\n",
       "        [ 0.05338481,  0.0487763 ,  0.01137683, ..., -0.00308552,\n",
       "         -0.0035443 , -0.12158323],\n",
       "        ...,\n",
       "        [ 0.09346315,  0.12448776, -0.01302452, ..., -0.13432515,\n",
       "         -0.08757643, -0.10416357],\n",
       "        [ 0.17810471,  0.01936248,  0.0732636 , ..., -0.00709006,\n",
       "          0.09963376,  0.15700932],\n",
       "        [ 0.09415574, -0.07242013,  0.11005212, ...,  0.0119104 ,\n",
       "         -0.03949057, -0.10806803]], dtype=float32),\n",
       " array([[ 0.03269126, -0.0875356 ,  0.08132567, ..., -0.01845629,\n",
       "          0.04631516,  0.00793173],\n",
       "        [ 0.03259443, -0.00952344, -0.00585248, ..., -0.06991424,\n",
       "         -0.09801969, -0.18146543],\n",
       "        [-0.05625634, -0.05709508,  0.08818795, ..., -0.00233817,\n",
       "         -0.09668802, -0.01246797],\n",
       "        ...,\n",
       "        [-0.10318822, -0.02970177,  0.01503332, ..., -0.04859827,\n",
       "          0.05719932, -0.07738806],\n",
       "        [-0.01009683,  0.14976259,  0.07417387, ..., -0.03164155,\n",
       "          0.07014896,  0.04631151],\n",
       "        [-0.06707126, -0.19956116, -0.03584507, ..., -0.01298073,\n",
       "          0.00242533, -0.07446705]], dtype=float32),\n",
       " array([ 0.00575734, -0.06938232,  0.03813367, -0.0494376 , -0.00817044,\n",
       "        -0.01957025, -0.03689851, -0.03672106, -0.05999904, -0.00571618,\n",
       "        -0.06856776,  0.0333815 , -0.04284501, -0.01730212, -0.01420499,\n",
       "         0.08088932, -0.03035937, -0.01401622, -0.04631657,  0.04855536,\n",
       "        -0.06115198,  0.02497698,  0.00722069, -0.05745158,  0.05057278,\n",
       "        -0.01449916, -0.03847207,  0.04602416, -0.08641195,  0.00246407,\n",
       "        -0.03778938,  0.00251931,  0.0818805 , -0.00155121,  0.05688956,\n",
       "        -0.00790169,  0.00614799,  0.05873795,  0.01511549, -0.05448082,\n",
       "         0.01461078, -0.02592272,  0.02896947, -0.00428369, -0.00880641,\n",
       "        -0.02426288,  0.01561557,  0.05275819,  0.05233613,  0.00122796,\n",
       "         0.02367013, -0.03251735,  0.06652594, -0.06026074, -0.05818108,\n",
       "        -0.01774626,  0.08011358, -0.07366503,  0.0628089 ,  0.04621837,\n",
       "         0.00722158, -0.0388748 , -0.02946368, -0.04012939,  0.04085248,\n",
       "         0.06480411, -0.04941621,  0.05185477, -0.05166449,  0.00481006,\n",
       "        -0.02151318, -0.0433368 , -0.06943511, -0.05502101, -0.05711352,\n",
       "        -0.00468705,  0.08210736,  0.05845949,  0.00280471, -0.02182284,\n",
       "        -0.00434144,  0.05445   , -0.02061941, -0.01825161, -0.00020336,\n",
       "        -0.05183647,  0.05394535, -0.00836017,  0.00148833,  0.0404747 ,\n",
       "        -0.0594053 ,  0.00897228, -0.04041787, -0.0678835 , -0.02707977,\n",
       "         0.04674148, -0.06319457, -0.04377285, -0.02302827, -0.00741925,\n",
       "         0.01108123,  0.02341983, -0.06763001, -0.0360416 , -0.06076277,\n",
       "         0.01406959, -0.08525188, -0.0571604 ,  0.07719845, -0.00382253,\n",
       "        -0.04946327, -0.06773061,  0.01249074, -0.0361151 , -0.0471896 ,\n",
       "        -0.04354883, -0.0053371 ,  0.0457231 , -0.06638451, -0.02083645,\n",
       "        -0.00453911, -0.03790514, -0.01392794, -0.04333595,  0.07038581,\n",
       "        -0.0316213 , -0.01279898, -0.02835984], dtype=float32),\n",
       " array([[ 1.03144795e-01],\n",
       "        [-1.54697403e-01],\n",
       "        [-5.18745035e-02],\n",
       "        [ 1.74682345e-02],\n",
       "        [-4.22087871e-02],\n",
       "        [-8.28965604e-02],\n",
       "        [-2.17069924e-01],\n",
       "        [-4.53355342e-01],\n",
       "        [-1.06709287e-01],\n",
       "        [ 4.49871309e-02],\n",
       "        [-8.98169205e-02],\n",
       "        [-6.43546879e-03],\n",
       "        [ 2.55204111e-01],\n",
       "        [ 1.80694610e-01],\n",
       "        [-3.59922856e-01],\n",
       "        [ 1.69477493e-01],\n",
       "        [ 1.23071320e-01],\n",
       "        [-1.88644588e-01],\n",
       "        [ 6.53017610e-02],\n",
       "        [ 1.55502573e-01],\n",
       "        [-2.32146382e-02],\n",
       "        [ 3.97387706e-02],\n",
       "        [-2.48875856e+00],\n",
       "        [-7.43096992e-02],\n",
       "        [ 1.60473242e-01],\n",
       "        [ 5.07482737e-02],\n",
       "        [-7.21812695e-02],\n",
       "        [ 1.46332860e-01],\n",
       "        [ 1.64353803e-01],\n",
       "        [ 8.64742696e-02],\n",
       "        [-7.69526809e-02],\n",
       "        [-1.63337976e-01],\n",
       "        [ 2.41739020e-01],\n",
       "        [-3.08605079e-02],\n",
       "        [-1.41409814e-01],\n",
       "        [-1.61252052e-01],\n",
       "        [ 2.40760595e-01],\n",
       "        [-1.80222036e-03],\n",
       "        [ 1.76016435e-01],\n",
       "        [-3.50543410e-02],\n",
       "        [-2.02246815e-01],\n",
       "        [-3.03866953e-01],\n",
       "        [ 2.34571353e-01],\n",
       "        [-4.84293729e-01],\n",
       "        [ 2.41577029e-01],\n",
       "        [ 2.23105058e-01],\n",
       "        [ 1.69351876e-01],\n",
       "        [-4.27150577e-02],\n",
       "        [-7.08467811e-02],\n",
       "        [ 4.53952886e-02],\n",
       "        [ 8.55870023e-02],\n",
       "        [ 1.74912006e-01],\n",
       "        [ 1.71458200e-01],\n",
       "        [ 4.56855334e-02],\n",
       "        [-7.53199533e-02],\n",
       "        [ 3.29930782e-01],\n",
       "        [ 1.33917570e-01],\n",
       "        [-1.54138654e-01],\n",
       "        [ 2.11890876e-01],\n",
       "        [-3.72719690e-02],\n",
       "        [ 8.24997723e-02],\n",
       "        [-6.26802817e-02],\n",
       "        [-4.96577352e-01],\n",
       "        [-4.98821467e-01],\n",
       "        [-3.06491973e-03],\n",
       "        [ 1.44635826e-01],\n",
       "        [-6.36212975e-02],\n",
       "        [-1.09501593e-01],\n",
       "        [ 2.44130809e-02],\n",
       "        [-1.16595671e-01],\n",
       "        [-1.15273865e-02],\n",
       "        [ 5.69418743e-02],\n",
       "        [-1.28246650e-01],\n",
       "        [-6.64630812e-03],\n",
       "        [-1.55095026e-01],\n",
       "        [-2.00962633e-01],\n",
       "        [ 8.49749669e-02],\n",
       "        [-1.00715689e-01],\n",
       "        [ 5.67793213e-02],\n",
       "        [-1.50162965e-01],\n",
       "        [ 1.71130985e-01],\n",
       "        [ 1.36803668e-02],\n",
       "        [ 2.58680806e-02],\n",
       "        [ 2.85214395e-03],\n",
       "        [-6.08585067e-02],\n",
       "        [ 7.33554959e-02],\n",
       "        [ 2.28869766e-01],\n",
       "        [-2.71590412e-01],\n",
       "        [ 1.18428878e-01],\n",
       "        [-4.30182606e-01],\n",
       "        [-2.24968791e-01],\n",
       "        [-1.03134081e-01],\n",
       "        [-1.77438065e-01],\n",
       "        [ 4.36239466e-02],\n",
       "        [-3.81027050e-02],\n",
       "        [ 1.37037501e-01],\n",
       "        [ 7.62134641e-02],\n",
       "        [-1.53163731e-01],\n",
       "        [ 5.87151870e-02],\n",
       "        [-1.33251399e-01],\n",
       "        [ 9.34418514e-02],\n",
       "        [-6.39857426e-02],\n",
       "        [-4.28465158e-02],\n",
       "        [-1.32397428e-01],\n",
       "        [-1.65123582e-01],\n",
       "        [ 7.07761273e-02],\n",
       "        [-7.87773132e-02],\n",
       "        [-1.70268908e-01],\n",
       "        [ 3.32204886e-02],\n",
       "        [ 2.24007964e-01],\n",
       "        [ 1.14614964e-01],\n",
       "        [ 3.44951153e-02],\n",
       "        [ 4.77939332e-03],\n",
       "        [ 2.80195940e-02],\n",
       "        [-3.96859258e-01],\n",
       "        [-7.74419084e-02],\n",
       "        [ 9.82673690e-02],\n",
       "        [ 8.60039592e-02],\n",
       "        [ 1.91810727e-01],\n",
       "        [-3.83684076e-02],\n",
       "        [-1.75912857e-01],\n",
       "        [ 4.76921760e-02],\n",
       "        [-3.15358210e-03],\n",
       "        [-4.36669998e-02],\n",
       "        [-2.32302874e-01],\n",
       "        [-1.25368819e-01],\n",
       "        [-1.56427070e-01],\n",
       "        [-8.77550691e-02]], dtype=float32),\n",
       " array([-1.1013541], dtype=float32)]"
      ]
     },
     "execution_count": 15,
     "metadata": {},
     "output_type": "execute_result"
    }
   ],
   "source": [
    "model.get_weights()"
   ]
  },
  {
   "cell_type": "code",
   "execution_count": 16,
   "metadata": {},
   "outputs": [],
   "source": [
    "# Step 2: Helper Functions\n",
    "# Function to decode reviews\n",
    "def decode_review(encoded_review):\n",
    "    return ' '.join([reverse_word_index.get(i - 3, '?') for i in encoded_review])\n",
    "\n",
    "# Function to preprocess user input\n",
    "def preprocess_text(text):\n",
    "    words = text.lower().split()\n",
    "    encoded_review = [word_index.get(word, 2) + 3 for word in words]\n",
    "    padded_review = sequence.pad_sequences([encoded_review], maxlen=500)\n",
    "    return padded_review"
   ]
  },
  {
   "cell_type": "code",
   "execution_count": 17,
   "metadata": {},
   "outputs": [],
   "source": [
    "### Prediction  function\n",
    "\n",
    "def predict_sentiment(review):\n",
    "    preprocessed_input=preprocess_text(review)\n",
    "\n",
    "    prediction=model.predict(preprocessed_input)\n",
    "\n",
    "    sentiment = 'Positive' if prediction[0][0] > 0.5 else 'Negative'\n",
    "    \n",
    "    return sentiment, prediction[0][0]\n",
    "\n"
   ]
  },
  {
   "cell_type": "code",
   "execution_count": 18,
   "metadata": {},
   "outputs": [
    {
     "name": "stdout",
     "output_type": "stream",
     "text": [
      "\u001b[1m1/1\u001b[0m \u001b[32m━━━━━━━━━━━━━━━━━━━━\u001b[0m\u001b[37m\u001b[0m \u001b[1m0s\u001b[0m 112ms/step\n",
      "Review: This movie was fantastic! The acting was great and the plot was thrilling.\n",
      "Sentiment: Positive\n",
      "Prediction Score: 0.6396024823188782\n"
     ]
    }
   ],
   "source": [
    "# Step 4: User Input and Prediction\n",
    "# Example review for prediction\n",
    "example_review = \"This movie was fantastic! The acting was great and the plot was thrilling.\"\n",
    "\n",
    "sentiment,score=predict_sentiment(example_review)\n",
    "\n",
    "print(f'Review: {example_review}')\n",
    "print(f'Sentiment: {sentiment}')\n",
    "print(f'Prediction Score: {score}')"
   ]
  },
  {
   "cell_type": "code",
   "execution_count": null,
   "metadata": {},
   "outputs": [],
   "source": []
  },
  {
   "cell_type": "code",
   "execution_count": null,
   "metadata": {},
   "outputs": [],
   "source": []
  },
  {
   "cell_type": "code",
   "execution_count": null,
   "metadata": {},
   "outputs": [],
   "source": []
  },
  {
   "cell_type": "code",
   "execution_count": null,
   "metadata": {},
   "outputs": [],
   "source": []
  }
 ],
 "metadata": {
  "kernelspec": {
   "display_name": "tensorflow",
   "language": "python",
   "name": "python3"
  },
  "language_info": {
   "codemirror_mode": {
    "name": "ipython",
    "version": 3
   },
   "file_extension": ".py",
   "mimetype": "text/x-python",
   "name": "python",
   "nbconvert_exporter": "python",
   "pygments_lexer": "ipython3",
   "version": "3.11.10"
  }
 },
 "nbformat": 4,
 "nbformat_minor": 2
}
